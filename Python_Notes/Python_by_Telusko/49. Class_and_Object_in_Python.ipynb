{
 "cells": [
  {
   "cell_type": "markdown",
   "metadata": {},
   "source": [
    "### 49. Class and Object in Python"
   ]
  },
  {
   "cell_type": "code",
   "execution_count": 1,
   "metadata": {},
   "outputs": [
    {
     "name": "stdout",
     "output_type": "stream",
     "text": [
      "<class '__main__.Computer'>\n"
     ]
    }
   ],
   "source": [
    "# Here Computer is a class and com1 is a object of that class.\n",
    "# We create this Computer class that is our class means we created this class.\n",
    "class Computer:\n",
    "\n",
    "    def config(self):\n",
    "        print(\"i5, 16GB, 1TB\")\n",
    "\n",
    "com1 = Computer()\n",
    "print(type(com1))"
   ]
  },
  {
   "cell_type": "code",
   "execution_count": 3,
   "metadata": {},
   "outputs": [
    {
     "name": "stdout",
     "output_type": "stream",
     "text": [
      "<class 'str'>\n"
     ]
    }
   ],
   "source": [
    "# Here str is a class and a is a object of that class.\n",
    "# str is Inbuilt class.\n",
    "\n",
    "a = '8'\n",
    "print(type(a))"
   ]
  },
  {
   "cell_type": "code",
   "execution_count": 4,
   "metadata": {},
   "outputs": [
    {
     "name": "stdout",
     "output_type": "stream",
     "text": [
      "<class 'int'>\n"
     ]
    }
   ],
   "source": [
    "# Here int is a class and x is a object of that class.\n",
    "# str is Inbuilt class.\n",
    "\n",
    "x = 9\n",
    "print(type(x))"
   ]
  },
  {
   "cell_type": "code",
   "execution_count": 5,
   "metadata": {},
   "outputs": [
    {
     "name": "stdout",
     "output_type": "stream",
     "text": [
      "i5, 16GB, 1TB\n"
     ]
    }
   ],
   "source": [
    "# Here Computer is a class and com1 is a object of that class.\n",
    "# We create this Computer class that is our class means we created this class.\n",
    "# If we want to used method then we have to used/mention class name first\n",
    "# We have to mention object name also so we mention com1.\n",
    "\n",
    "class Computer:\n",
    "\n",
    "    def config(self):\n",
    "        print(\"i5, 16GB, 1TB\")\n",
    "\n",
    "com1 = Computer()\n",
    "Computer.config(com1)"
   ]
  },
  {
   "cell_type": "code",
   "execution_count": 6,
   "metadata": {},
   "outputs": [
    {
     "name": "stdout",
     "output_type": "stream",
     "text": [
      "i5, 16GB, 1TB\n",
      "i5, 16GB, 1TB\n"
     ]
    }
   ],
   "source": [
    "# Here Computer is a class and com1 is a object of that class.\n",
    "# We create this Computer class that is our class means we created this class.\n",
    "# If we want to used method then we have to used/mention class name first\n",
    "# We have to mention object name also so we mention com1.\n",
    "# There are 2 object com1 and com2 and only one class Computer. We want to call both objects.\n",
    "# This syntx not seen mostelly.\n",
    "\n",
    "class Computer:\n",
    "\n",
    "    def config(self):\n",
    "        print(\"i5, 16GB, 1TB\")\n",
    "\n",
    "com1 = Computer()\n",
    "com2 = Computer()\n",
    "\n",
    "Computer.config(com1)\n",
    "Computer.config(com2)"
   ]
  },
  {
   "cell_type": "code",
   "execution_count": 8,
   "metadata": {},
   "outputs": [
    {
     "name": "stdout",
     "output_type": "stream",
     "text": [
      "i5, 16GB, 1TB\n",
      "i5, 16GB, 1TB\n"
     ]
    }
   ],
   "source": [
    "# Here Computer is a class and com1 is a object of that class.\n",
    "# We create this Computer class that is our class means we created this class.\n",
    "# There are 2 object com1 and com2 and only one class Computer. We want to call both objects.\n",
    "# Here we are using object to called the function/method. And still it works.\n",
    "# This is another syntax and it used mostelly.\n",
    "\n",
    "class Computer:\n",
    "\n",
    "    def config(self):\n",
    "        print(\"i5, 16GB, 1TB\")\n",
    "\n",
    "com1 = Computer()\n",
    "com2 = Computer()\n",
    "\n",
    "com1.config()\n",
    "com1.config()"
   ]
  },
  {
   "cell_type": "code",
   "execution_count": null,
   "metadata": {},
   "outputs": [],
   "source": []
  },
  {
   "cell_type": "code",
   "execution_count": null,
   "metadata": {},
   "outputs": [],
   "source": []
  },
  {
   "cell_type": "code",
   "execution_count": null,
   "metadata": {},
   "outputs": [],
   "source": []
  }
 ],
 "metadata": {
  "kernelspec": {
   "display_name": "Python 3",
   "language": "python",
   "name": "python3"
  },
  "language_info": {
   "codemirror_mode": {
    "name": "ipython",
    "version": 3
   },
   "file_extension": ".py",
   "mimetype": "text/x-python",
   "name": "python",
   "nbconvert_exporter": "python",
   "pygments_lexer": "ipython3",
   "version": "3.11.9"
  }
 },
 "nbformat": 4,
 "nbformat_minor": 2
}
