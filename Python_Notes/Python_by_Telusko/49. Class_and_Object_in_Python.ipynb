{
 "cells": [
  {
   "cell_type": "markdown",
   "metadata": {},
   "source": [
    "### 49. Class_and_Object_in_Python\n",
    "\n",
    "In this lecture we will learn:\n",
    "- Class and object in Python\n",
    "- How are a class and an object created?\n",
    "- Syntax for creating a class\n",
    "- Syntax for creating an object\n",
    "- How to call a method through an object?\n",
    "- What is the type of an object?\n",
    "\n",
    "\n",
    "#1\n",
    "- Class is a blueprint to create objects.\n",
    "- Integer, Float, String, etc., are in-built types in Python.\n",
    "- To create our type like a computer, we have to create our own class for it. \n",
    "- To use the type that you have created, you need to define a class for it.\n",
    "- A class can be defined by using the class keyword and every class must have a name to it.\n",
    "\n",
    "The syntax for creating a class:-\n",
    " class class_name:\n",
    "  methods():\n",
    "   statements\n",
    "  variables\n",
    "\n",
    "- A class consists of two things:\n",
    "1. Attributes  - Variables\n",
    "2. Behaviour - Methods (Functions)\n",
    "\n",
    "#2\n",
    "- An object of a class can be defined by a  variable and assigned its value with the type of the class.\n",
    "- A class can have multiple objects.\n",
    "\n",
    "Syntax of creating an object:-\n",
    " object variable = class_name()\n",
    "\n",
    "#3\n",
    "- type() return the type of a value that is present inside the variable.\n",
    "- If we will return the type of an object, then it will print the class name. It means an object belongs to a type of particular class.\n",
    "- String, integer, etc are also object that belongs to some in-build class like str and int respectively.\n",
    "\n",
    "#4\n",
    "- We can call any method from a class.\n",
    "- The behaviour of every object will be different from each other so need to define for which object, you are calling a method.\n",
    "- So, we need to pass an object in it as a parameter at the time of calling a method.\n",
    "The syntax for calling a method:-\n",
    " class_name.method_name(object variable)\n",
    "\n",
    "- We pass an object to a method as an argument that will go into the self.\n",
    "- Self is the object that you are passing in a method.\n",
    "- We can also call a method in another way:\n",
    " object_variable.method_name()\n",
    "\n"
   ]
  },
  {
   "cell_type": "code",
   "execution_count": 7,
   "metadata": {},
   "outputs": [
    {
     "name": "stdout",
     "output_type": "stream",
     "text": [
      "<class '__main__.Computer'>\n"
     ]
    }
   ],
   "source": [
    "# Here Computer is a class and com1 is a object of that class.\n",
    "# We create this Computer class that is our class means we created this class.\n",
    "class Computer:\n",
    "\n",
    "    def config(self):\n",
    "        print(\"i5, 16GB, 1TB\")\n",
    "\n",
    "com1 = Computer()\n",
    "print(type(com1))"
   ]
  },
  {
   "cell_type": "code",
   "execution_count": 8,
   "metadata": {},
   "outputs": [
    {
     "name": "stdout",
     "output_type": "stream",
     "text": [
      "<class 'str'>\n"
     ]
    }
   ],
   "source": [
    "# Here str is a class and a is a object of that class.\n",
    "# str is Inbuilt class.\n",
    "\n",
    "a = '8'\n",
    "print(type(a))"
   ]
  },
  {
   "cell_type": "code",
   "execution_count": 9,
   "metadata": {},
   "outputs": [
    {
     "name": "stdout",
     "output_type": "stream",
     "text": [
      "<class 'int'>\n"
     ]
    }
   ],
   "source": [
    "# Here int is a class and x is a object of that class.\n",
    "# str is Inbuilt class.\n",
    "\n",
    "x = 9\n",
    "print(type(x))"
   ]
  },
  {
   "cell_type": "code",
   "execution_count": 10,
   "metadata": {},
   "outputs": [
    {
     "name": "stdout",
     "output_type": "stream",
     "text": [
      "i5, 16GB, 1TB\n"
     ]
    }
   ],
   "source": [
    "# Here Computer is a class and com1 is a object of that class.\n",
    "# We create this Computer class that is our class means we created this class.\n",
    "# If we want to used method then we have to used/mention class name first\n",
    "# We have to mention object name also so we mention com1.\n",
    "\n",
    "class Computer:\n",
    "\n",
    "    def config(self):\n",
    "        print(\"i5, 16GB, 1TB\")\n",
    "\n",
    "com1 = Computer()\n",
    "Computer.config(com1)"
   ]
  },
  {
   "cell_type": "code",
   "execution_count": 11,
   "metadata": {},
   "outputs": [
    {
     "name": "stdout",
     "output_type": "stream",
     "text": [
      "i5, 16GB, 1TB\n",
      "i5, 16GB, 1TB\n"
     ]
    }
   ],
   "source": [
    "# Here Computer is a class and com1 is a object of that class.\n",
    "# We create this Computer class that is our class means we created this class.\n",
    "# If we want to used method then we have to used/mention class name first\n",
    "# We have to mention object name also so we mention com1.\n",
    "# There are 2 object com1 and com2 and only one class Computer. We want to call both objects.\n",
    "# This syntx not seen mostelly.\n",
    "\n",
    "class Computer:\n",
    "\n",
    "    def config(self):\n",
    "        print(\"i5, 16GB, 1TB\")\n",
    "\n",
    "com1 = Computer()\n",
    "com2 = Computer()\n",
    "\n",
    "Computer.config(com1)\n",
    "Computer.config(com2)"
   ]
  },
  {
   "cell_type": "code",
   "execution_count": 12,
   "metadata": {},
   "outputs": [
    {
     "name": "stdout",
     "output_type": "stream",
     "text": [
      "i5, 16GB, 1TB\n",
      "i5, 16GB, 1TB\n"
     ]
    }
   ],
   "source": [
    "# Here Computer is a class and com1 is a object of that class.\n",
    "# We create this Computer class that is our class means we created this class.\n",
    "# There are 2 object com1 and com2 and only one class Computer. We want to call both objects.\n",
    "# Here we are using object to called the function/method. And still it works.\n",
    "# This is another syntax and it used mostelly.\n",
    "\n",
    "class Computer:\n",
    "\n",
    "    def config(self):\n",
    "        print(\"i5, 16GB, 1TB\")\n",
    "\n",
    "com1 = Computer()\n",
    "com2 = Computer()\n",
    "\n",
    "com1.config()\n",
    "com1.config()"
   ]
  },
  {
   "cell_type": "code",
   "execution_count": null,
   "metadata": {},
   "outputs": [],
   "source": []
  },
  {
   "cell_type": "code",
   "execution_count": null,
   "metadata": {},
   "outputs": [],
   "source": []
  },
  {
   "cell_type": "code",
   "execution_count": null,
   "metadata": {},
   "outputs": [],
   "source": []
  }
 ],
 "metadata": {
  "kernelspec": {
   "display_name": "Python 3",
   "language": "python",
   "name": "python3"
  },
  "language_info": {
   "codemirror_mode": {
    "name": "ipython",
    "version": 3
   },
   "file_extension": ".py",
   "mimetype": "text/x-python",
   "name": "python",
   "nbconvert_exporter": "python",
   "pygments_lexer": "ipython3",
   "version": "3.11.9"
  }
 },
 "nbformat": 4,
 "nbformat_minor": 2
}
